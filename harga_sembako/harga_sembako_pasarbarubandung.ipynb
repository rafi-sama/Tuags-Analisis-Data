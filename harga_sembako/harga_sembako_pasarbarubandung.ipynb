{
 "cells": [
  {
   "cell_type": "code",
   "execution_count": null,
   "metadata": {},
   "outputs": [],
   "source": [
    "# Source : http://satudata.bandung.go.id/dataset/daftar-harga-komoditas-bahan-pokok-di-pasar-baru-tahun-2019\n",
    "\n",
    "# Data   : Harga komoditas bahan pokok di Pasar Baru Bandung Januari-Juni 2019\n",
    "# Ukuran : 182 baris x 8 kolom"
   ]
  },
  {
   "cell_type": "code",
   "execution_count": 8,
   "metadata": {},
   "outputs": [],
   "source": [
    "import pandas as pd\n",
    "\n",
    "df = pd.read_excel(\"harga_sembako_pasarbarubandung.xlsx\")"
   ]
  },
  {
   "cell_type": "code",
   "execution_count": 9,
   "metadata": {},
   "outputs": [],
   "source": [
    "# Menghapus baris dengan data 0 \n",
    "\n",
    "for kolom in df.columns:\n",
    "\n",
    "    if kolom == \"tanggal\":\n",
    "        continue\n",
    "\n",
    "    df = df.loc[df[f\"{kolom}\"] != 0]"
   ]
  },
  {
   "cell_type": "code",
   "execution_count": 10,
   "metadata": {},
   "outputs": [
    {
     "name": "stdout",
     "output_type": "stream",
     "text": [
      "        tanggal  cabe_merah  bawang_merah  daging_ayam_ras  telur_ayam_ras  \\\n",
      "1    2019-01-02       40000         35000            41000           27000   \n",
      "3    2019-01-04       40000         35000            41000           27000   \n",
      "6    2019-01-07       40000         35000            35000           25000   \n",
      "7    2019-01-08       40000         35000            35000           25000   \n",
      "9    2019-01-10       40000         35000            35000           25000   \n",
      "..          ...         ...           ...              ...             ...   \n",
      "171  2019-06-21       60000         40000            30000           23000   \n",
      "175  2019-06-25       60000         40000            30000           23000   \n",
      "176  2019-06-26       70000         40000            30000           23000   \n",
      "177  2019-06-27       70000         40000            30000           23000   \n",
      "178  2019-06-28       70000         40000            30000           23000   \n",
      "\n",
      "     daging_sapi  minyak_goreng  gula_pasir  \n",
      "1         120000          13500       12000  \n",
      "3         120000          15000       12000  \n",
      "6         120000          15000       12000  \n",
      "7         120000          15000       12000  \n",
      "9         120000          15000       12000  \n",
      "..           ...            ...         ...  \n",
      "171       120000          15000       12000  \n",
      "175       120000          15000       12000  \n",
      "176       120000          15000       12000  \n",
      "177       120000          15000       12000  \n",
      "178       120000          15000       12000  \n",
      "\n",
      "[77 rows x 8 columns]\n"
     ]
    }
   ],
   "source": [
    "print(df)"
   ]
  }
 ],
 "metadata": {
  "kernelspec": {
   "display_name": "Python 3.9.13 64-bit",
   "language": "python",
   "name": "python3"
  },
  "language_info": {
   "codemirror_mode": {
    "name": "ipython",
    "version": 3
   },
   "file_extension": ".py",
   "mimetype": "text/x-python",
   "name": "python",
   "nbconvert_exporter": "python",
   "pygments_lexer": "ipython3",
   "version": "3.9.13"
  },
  "orig_nbformat": 4,
  "vscode": {
   "interpreter": {
    "hash": "6931a9a621d8ff6d07958d162f21a10a58d4e8c949ccb5bafc32b10cd7b79477"
   }
  }
 },
 "nbformat": 4,
 "nbformat_minor": 2
}
