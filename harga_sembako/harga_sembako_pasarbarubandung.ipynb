{
 "cells": [
  {
   "cell_type": "code",
   "execution_count": null,
   "metadata": {},
   "outputs": [],
   "source": [
    "# Source : http://satudata.bandung.go.id/dataset/daftar-harga-komoditas-bahan-pokok-di-pasar-baru-tahun-2019\n",
    "\n",
    "# Data   : Harga komoditas bahan pokok di Pasar Baru Bandung Januari-Juni 2019\n",
    "# Ukuran : 182 baris x 8 kolom"
   ]
  },
  {
   "cell_type": "code",
   "execution_count": 8,
   "metadata": {},
   "outputs": [],
   "source": [
    "import pandas as pd\n",
    "\n",
    "df = pd.read_excel(\"harga_sembako_pasarbarubandung.xlsx\")"
   ]
  },
  {
   "cell_type": "code",
   "execution_count": 9,
   "metadata": {},
   "outputs": [],
   "source": [
    "# Menghapus baris dengan data 0 \n",
    "\n",
    "for kolom in df.columns:\n",
    "\n",
    "    if kolom == \"tanggal\":\n",
    "        continue\n",
    "\n",
    "    df = df.loc[df[f\"{kolom}\"] != 0]"
   ]
  },
  {
   "cell_type": "code",
   "execution_count": null,
   "metadata": {},
   "outputs": [],
   "source": []
  }
 ],
 "metadata": {
  "kernelspec": {
   "display_name": "Python 3.9.13 64-bit",
   "language": "python",
   "name": "python3"
  },
  "language_info": {
   "codemirror_mode": {
    "name": "ipython",
    "version": 3
   },
   "file_extension": ".py",
   "mimetype": "text/x-python",
   "name": "python",
   "nbconvert_exporter": "python",
   "pygments_lexer": "ipython3",
   "version": "3.9.13"
  },
  "orig_nbformat": 4,
  "vscode": {
   "interpreter": {
    "hash": "6931a9a621d8ff6d07958d162f21a10a58d4e8c949ccb5bafc32b10cd7b79477"
   }
  }
 },
 "nbformat": 4,
 "nbformat_minor": 2
}
