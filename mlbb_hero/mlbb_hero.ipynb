{
 "cells": [
  {
   "cell_type": "code",
   "execution_count": 1,
   "metadata": {},
   "outputs": [],
   "source": [
    "import pandas as pd\n",
    "\n",
    "df = pd.read_excel(\"mlbb_hero.xlsx\")"
   ]
  },
  {
   "cell_type": "code",
   "execution_count": 2,
   "metadata": {},
   "outputs": [
    {
     "name": "stdout",
     "output_type": "stream",
     "text": [
      "     hero_name      role  defense_overall  offense_overall  \\\n",
      "0      Terizla   fighter              7.0              8.0   \n",
      "1       Martis   fighter              6.0              8.0   \n",
      "2        Grock      tank              8.0              5.0   \n",
      "3     Carmilla   support              5.0              5.0   \n",
      "4      Irithel  marksman              5.0              5.0   \n",
      "..         ...       ...              ...              ...   \n",
      "98   Esmeralda      mage              7.0              6.0   \n",
      "99   Benedetta  assassin              5.0              6.0   \n",
      "100      Brody  marksman              6.0              9.0   \n",
      "101    Natalia  assassin              6.0              9.0   \n",
      "102   Silvanna   fighter              6.0              6.0   \n",
      "\n",
      "     skill_effect_overall  difficulty_overall  movement_spd  magic_defense  \\\n",
      "0                     6.0                 6.0           255             10   \n",
      "1                     5.0                 5.0           260             10   \n",
      "2                     6.0                 4.0           260             10   \n",
      "3                     9.0                 5.0           255             10   \n",
      "4                     8.0                 7.0           260             10   \n",
      "..                    ...                 ...           ...            ...   \n",
      "98                    6.0                 4.0           240             10   \n",
      "99                    7.0                 7.0           260             10   \n",
      "100                   4.0                 7.0           253             10   \n",
      "101                   4.0                 6.0           250             10   \n",
      "102                   5.0                 4.0           255             10   \n",
      "\n",
      "     mana  hp_regen  physical_atk  physical_defense    hp  attack_speed  \\\n",
      "0     430        54           129                19  2728          0.80   \n",
      "1       0        35           128                25  2738          0.86   \n",
      "2     430        42           135                21  2819          0.81   \n",
      "3     430        39           126                25  2528          0.91   \n",
      "4     438        35           118                17  2540          0.82   \n",
      "..    ...       ...           ...               ...   ...           ...   \n",
      "98    502        36           114                21  2573          0.80   \n",
      "99    460        33           128                15  2499          0.88   \n",
      "100   435        36           140                14  2490          0.96   \n",
      "101   486        35           121                18  2589          0.89   \n",
      "102   430        39           126                22  2828          0.91   \n",
      "\n",
      "     mana_regen  win_rate  pick_rate  ban_rate  release_year  \n",
      "0          21.0     47.00       0.15      0.02          2019  \n",
      "1           0.0     45.00       0.15      0.02          2018  \n",
      "2          12.0     47.69       0.14      0.02          2017  \n",
      "3          16.0     53.76       0.08      0.02          2020  \n",
      "4          15.0     51.52       0.38      0.03          2017  \n",
      "..          ...       ...        ...       ...           ...  \n",
      "98         20.0     49.14       1.25     42.29          2019  \n",
      "99         16.0     52.38       0.72     49.46          2020  \n",
      "100         3.0     51.57       0.71     60.05          2020  \n",
      "101        15.0     47.76       0.41     61.29          2016  \n",
      "102        16.0     52.65       3.06      9.59          2019  \n",
      "\n",
      "[103 rows x 19 columns]\n"
     ]
    }
   ],
   "source": [
    "print(df)"
   ]
  }
 ],
 "metadata": {
  "kernelspec": {
   "display_name": "Python 3.9.13 64-bit",
   "language": "python",
   "name": "python3"
  },
  "language_info": {
   "codemirror_mode": {
    "name": "ipython",
    "version": 3
   },
   "file_extension": ".py",
   "mimetype": "text/x-python",
   "name": "python",
   "nbconvert_exporter": "python",
   "pygments_lexer": "ipython3",
   "version": "3.9.13"
  },
  "orig_nbformat": 4,
  "vscode": {
   "interpreter": {
    "hash": "6931a9a621d8ff6d07958d162f21a10a58d4e8c949ccb5bafc32b10cd7b79477"
   }
  }
 },
 "nbformat": 4,
 "nbformat_minor": 2
}
