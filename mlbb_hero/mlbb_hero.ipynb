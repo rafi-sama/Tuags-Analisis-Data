{
 "cells": [
  {
   "cell_type": "code",
   "execution_count": 1,
   "metadata": {},
   "outputs": [],
   "source": [
    "import pandas as pd\n",
    "\n",
    "# source : https://www.kaggle.com/datasets/christina0512/mobile-legends-bang-bang-mlbb-hero-dataset\n",
    "\n",
    "df = pd.read_excel(\"mlbb_hero.xlsx\")"
   ]
  },
  {
   "cell_type": "code",
   "execution_count": null,
   "metadata": {},
   "outputs": [],
   "source": [
    "print(df)"
   ]
  }
 ],
 "metadata": {
  "kernelspec": {
   "display_name": "Python 3.10.6 64-bit",
   "language": "python",
   "name": "python3"
  },
  "language_info": {
   "codemirror_mode": {
    "name": "ipython",
    "version": 3
   },
   "file_extension": ".py",
   "mimetype": "text/x-python",
   "name": "python",
   "nbconvert_exporter": "python",
   "pygments_lexer": "ipython3",
   "version": "3.10.6"
  },
  "orig_nbformat": 4,
  "vscode": {
   "interpreter": {
    "hash": "460e6011aa5f5997d91809ba8c4c914d44fc95d61b094355fe6d57320d2996d3"
   }
  }
 },
 "nbformat": 4,
 "nbformat_minor": 2
}
